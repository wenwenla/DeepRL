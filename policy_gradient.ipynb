{
 "cells": [
  {
   "cell_type": "code",
   "execution_count": 1,
   "metadata": {},
   "outputs": [],
   "source": [
    "import numpy as np\n",
    "import torch\n",
    "import torch.nn as nn\n",
    "import torch.optim as optim\n",
    "from torch.distributions import Categorical\n",
    "import gym\n",
    "import matplotlib.pyplot as plt"
   ]
  },
  {
   "cell_type": "code",
   "execution_count": 2,
   "metadata": {},
   "outputs": [],
   "source": [
    "class PolicyNet(nn.Module):\n",
    "    \n",
    "    def __init__(self, state_dim, action_cnt):\n",
    "        super().__init__()\n",
    "        self.fc0 = nn.Linear(state_dim, 64)\n",
    "        self.fc1 = nn.Linear(64, 32)\n",
    "        self.fc2 = nn.Linear(32, action_cnt)\n",
    "        self.softmax = nn.Softmax(dim=-1)\n",
    "        \n",
    "    def forward(self, x):\n",
    "        x = torch.relu(self.fc0(x))\n",
    "        x = torch.relu(self.fc1(x))\n",
    "        x = self.fc2(x)\n",
    "        p = self.softmax(x)\n",
    "        return p"
   ]
  },
  {
   "cell_type": "code",
   "execution_count": 3,
   "metadata": {},
   "outputs": [],
   "source": [
    "class VNet(nn.Module):\n",
    "    \n",
    "    def __init__(self, state_dim):\n",
    "        super().__init__()\n",
    "        self.fc0 = nn.Linear(state_dim, 64)\n",
    "        self.fc1 = nn.Linear(64, 32)\n",
    "        self.fc2 = nn.Linear(32, 1)\n",
    "        \n",
    "    def forward(self, x):\n",
    "        x = torch.relu(self.fc0(x))\n",
    "        x = torch.relu(self.fc1(x))\n",
    "        x = self.fc2(x)\n",
    "        return x"
   ]
  },
  {
   "cell_type": "code",
   "execution_count": 4,
   "metadata": {},
   "outputs": [],
   "source": [
    "class Args:\n",
    "    \n",
    "    def __init__(self, gamma=0.99, max_ep=1000, p_lr=1e-3, v_lr=1e-3, eval_interval=20, eval_average=10, baseline=True):\n",
    "        self.gamma = gamma\n",
    "        self.max_ep = max_ep\n",
    "        self.p_lr = p_lr\n",
    "        self.v_lr = v_lr\n",
    "        self.eval_interval = eval_interval\n",
    "        self.eval_average = eval_average\n",
    "        self.with_baseline = baseline"
   ]
  },
  {
   "cell_type": "code",
   "execution_count": 5,
   "metadata": {},
   "outputs": [],
   "source": [
    "class PGAgent(object):\n",
    "    \n",
    "    def __init__(self, args: Args):\n",
    "        self._args = args\n",
    "        self._env = gym.make('CartPole-v0')\n",
    "        self._eval_env = gym.make('CartPole-v0')\n",
    "        self._state_dim = self._env.observation_space.shape[0]\n",
    "        self._action_cnt = self._env.action_space.n\n",
    "        self._pnet = PolicyNet(self._state_dim, self._action_cnt)\n",
    "        self._vnet = VNet(self._state_dim)\n",
    "        self._p_optimizer = optim.Adam(self._pnet.parameters(), lr=self._args.p_lr)\n",
    "        self._v_optimizer = optim.Adam(self._vnet.parameters(), lr=self._args.v_lr)\n",
    "        \n",
    "    def choose_action(self, state):\n",
    "        s = torch.tensor(state).float()\n",
    "        with torch.no_grad():\n",
    "            pi = self._pnet(s)\n",
    "            dist = Categorical(pi)\n",
    "            action = dist.sample()\n",
    "        return action.numpy()\n",
    "    \n",
    "    def _calc_returns(self, rewards):\n",
    "        n = len(rewards)\n",
    "        g = np.zeros((n, ), dtype='float')\n",
    "        for i in range(n - 2, -1, -1):\n",
    "            g[i] = self._args.gamma * g[i + 1] + rewards[i]\n",
    "        return g\n",
    "    \n",
    "    def _gen_tr(self):\n",
    "        # ret: (states, actions, r)\n",
    "        states = []\n",
    "        actions = []\n",
    "        rewards = []\n",
    "        s = self._env.reset()\n",
    "        done = False\n",
    "        while not done:\n",
    "            a = self.choose_action(s)\n",
    "            s_, r, done, _ = self._env.step(a)\n",
    "            states.append(s)\n",
    "            actions.append(a)\n",
    "            rewards.append(r)\n",
    "            s = s_\n",
    "        return np.array(states), np.array(actions), self._calc_returns(rewards)\n",
    "    \n",
    "    def _eval(self):\n",
    "        s = self._eval_env.reset()\n",
    "        done = False\n",
    "        total = 0\n",
    "        while not done:\n",
    "            a = self.choose_action(s)\n",
    "            s_, r, done, _ = self._eval_env.step(a)\n",
    "            total += r\n",
    "            s = s_\n",
    "        return total\n",
    "    \n",
    "    def _update(self, states, actions, returns):\n",
    "        s_tensor = torch.tensor(states).float()\n",
    "        a_tensor = torch.tensor(actions).float()\n",
    "        r_tensor = torch.tensor(returns).float()\n",
    "        \n",
    "        # update V\n",
    "        v_output = self._vnet(s_tensor).view(-1)\n",
    "        loss = torch.nn.MSELoss()(v_output, r_tensor)\n",
    "        self._v_optimizer.zero_grad()\n",
    "        loss.backward()\n",
    "        self._v_optimizer.step()\n",
    "        \n",
    "        if self._args.with_baseline:\n",
    "            with torch.no_grad():\n",
    "                # add baseline\n",
    "                r_tensor -= v_output\n",
    "        \n",
    "        # update policy by policy gradient\n",
    "        dist = Categorical(self._pnet(s_tensor))\n",
    "        logits = dist.log_prob(a_tensor)\n",
    "        loss = -(logits * r_tensor).mean()\n",
    "\n",
    "        self._p_optimizer.zero_grad()\n",
    "        loss.backward()\n",
    "        self._p_optimizer.step()\n",
    "    \n",
    "    def train(self):\n",
    "        eval_eps = []\n",
    "        eval_rewards = []\n",
    "        for ep in range(self._args.max_ep + 1):\n",
    "            states, actions, returns = self._gen_tr()\n",
    "            self._update(states, actions, returns)\n",
    "            if ep % self._args.eval_interval == 0:\n",
    "                v = np.mean([self._eval() for _ in range(self._args.eval_average)])\n",
    "                eval_eps.append(ep)\n",
    "                eval_rewards.append(v)\n",
    "        return eval_eps, eval_rewards"
   ]
  },
  {
   "cell_type": "code",
   "execution_count": 6,
   "metadata": {},
   "outputs": [],
   "source": [
    "ep, r_with_baseline, r_without_baseline = None, None, None\n",
    "\n",
    "args_baseline = Args(baseline=True)\n",
    "agent_baseline = PGAgent(args_baseline)\n",
    "ep, r_with_baseline = agent_baseline.train()\n",
    "\n",
    "args_no_baseline = Args(baseline=False)\n",
    "agent_no_baseline = PGAgent(args_no_baseline)\n",
    "ep, r_without_baseline = agent_no_baseline.train()"
   ]
  },
  {
   "cell_type": "code",
   "execution_count": 7,
   "metadata": {},
   "outputs": [
    {
     "data": {
      "image/png": "[encoded data removed]",
      "text/plain": [
       "<Figure size 432x288 with 1 Axes>"
      ]
     },
     "metadata": {
      "needs_background": "light"
     },
     "output_type": "display_data"
    }
   ],
   "source": [
    "plt.plot(ep, r_with_baseline, label='value function as baseline')\n",
    "plt.plot(ep, r_without_baseline, label='no baseline')\n",
    "plt.legend()\n",
    "plt.title('cartpole train - eval result')\n",
    "plt.xlabel('training episodes')\n",
    "plt.ylabel('returns')\n",
    "plt.show()"
   ]
  }
 ],
 "metadata": {
  "kernelspec": {
   "display_name": "Python 3",
   "language": "python",
   "name": "python3"
  },
  "language_info": {
   "codemirror_mode": {
    "name": "ipython",
    "version": 3
   },
   "file_extension": ".py",
   "mimetype": "text/x-python",
   "name": "python",
   "nbconvert_exporter": "python",
   "pygments_lexer": "ipython3",
   "version": "3.7.7"
  }
 },
 "nbformat": 4,
 "nbformat_minor": 4
}
